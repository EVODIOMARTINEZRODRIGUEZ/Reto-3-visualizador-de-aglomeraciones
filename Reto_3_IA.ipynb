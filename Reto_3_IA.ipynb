{
  "nbformat": 4,
  "nbformat_minor": 0,
  "metadata": {
    "colab": {
      "name": "Reto 3 IA",
      "provenance": [],
      "collapsed_sections": [],
      "authorship_tag": "ABX9TyNYpa0G8kv/N2gjIz4D8Ys4",
      "include_colab_link": true
    },
    "kernelspec": {
      "name": "python3",
      "display_name": "Python 3"
    }
  },
  "cells": [
    {
      "cell_type": "markdown",
      "metadata": {
        "id": "view-in-github",
        "colab_type": "text"
      },
      "source": [
        "<a href=\"https://colab.research.google.com/github/EVODIOMARTINEZRODRIGUEZ/Reto-3-visualizador-de-aglomeraciones/blob/main/Reto_3_IA.ipynb\" target=\"_parent\"><img src=\"https://colab.research.google.com/assets/colab-badge.svg\" alt=\"Open In Colab\"/></a>"
      ]
    },
    {
      "cell_type": "markdown",
      "metadata": {
        "id": "bESD-tnvNipH"
      },
      "source": [
        "`El reto es para hacer la comunicacion de dos servicios cognitivos de azure donde el primero es computer vision, es te se encargara de identificar personas o aglomeraciones cuando vea pasando un grupo de personas o una persona un altavoz se encargara de recordarle o recodarles que deben mantener la sana distancia para evitar contagios.`"
      ]
    },
    {
      "cell_type": "code",
      "metadata": {
        "colab": {
          "base_uri": "https://localhost:8080/"
        },
        "id": "S6P5C57kNfqJ",
        "outputId": "1f492cdf-d4bc-466f-8dc7-e4d42c44cd9a"
      },
      "source": [
        "!pip install --upgrade azure-cognitiveservices-vision-computervision   #Instalacion de biblioteca"
      ],
      "execution_count": 16,
      "outputs": [
        {
          "output_type": "stream",
          "text": [
            "Requirement already satisfied: azure-cognitiveservices-vision-computervision in /usr/local/lib/python3.7/dist-packages (0.7.0)\n",
            "Requirement already satisfied: azure-common~=1.1 in /usr/local/lib/python3.7/dist-packages (from azure-cognitiveservices-vision-computervision) (1.1.26)\n",
            "Requirement already satisfied: msrest>=0.5.0 in /usr/local/lib/python3.7/dist-packages (from azure-cognitiveservices-vision-computervision) (0.6.21)\n",
            "Requirement already satisfied: isodate>=0.6.0 in /usr/local/lib/python3.7/dist-packages (from msrest>=0.5.0->azure-cognitiveservices-vision-computervision) (0.6.0)\n",
            "Requirement already satisfied: certifi>=2017.4.17 in /usr/local/lib/python3.7/dist-packages (from msrest>=0.5.0->azure-cognitiveservices-vision-computervision) (2020.12.5)\n",
            "Requirement already satisfied: requests~=2.16 in /usr/local/lib/python3.7/dist-packages (from msrest>=0.5.0->azure-cognitiveservices-vision-computervision) (2.23.0)\n",
            "Requirement already satisfied: requests-oauthlib>=0.5.0 in /usr/local/lib/python3.7/dist-packages (from msrest>=0.5.0->azure-cognitiveservices-vision-computervision) (1.3.0)\n",
            "Requirement already satisfied: six in /usr/local/lib/python3.7/dist-packages (from isodate>=0.6.0->msrest>=0.5.0->azure-cognitiveservices-vision-computervision) (1.15.0)\n",
            "Requirement already satisfied: urllib3!=1.25.0,!=1.25.1,<1.26,>=1.21.1 in /usr/local/lib/python3.7/dist-packages (from requests~=2.16->msrest>=0.5.0->azure-cognitiveservices-vision-computervision) (1.24.3)\n",
            "Requirement already satisfied: idna<3,>=2.5 in /usr/local/lib/python3.7/dist-packages (from requests~=2.16->msrest>=0.5.0->azure-cognitiveservices-vision-computervision) (2.10)\n",
            "Requirement already satisfied: chardet<4,>=3.0.2 in /usr/local/lib/python3.7/dist-packages (from requests~=2.16->msrest>=0.5.0->azure-cognitiveservices-vision-computervision) (3.0.4)\n",
            "Requirement already satisfied: oauthlib>=3.0.0 in /usr/local/lib/python3.7/dist-packages (from requests-oauthlib>=0.5.0->msrest>=0.5.0->azure-cognitiveservices-vision-computervision) (3.1.0)\n"
          ],
          "name": "stdout"
        }
      ]
    },
    {
      "cell_type": "code",
      "metadata": {
        "id": "HjeU0vtGPk_1"
      },
      "source": [
        "#Importacion de biblioteca\r\n",
        "from azure.cognitiveservices.vision.computervision import ComputerVisionClient\r\n",
        "from azure.cognitiveservices.vision.computervision.models import OperationStatusCodes\r\n",
        "from azure.cognitiveservices.vision.computervision.models import VisualFeatureTypes\r\n",
        "from msrest.authentication import CognitiveServicesCredentials\r\n",
        "\r\n",
        "from array import array\r\n",
        "import os\r\n",
        "from PIL import Image\r\n",
        "import sys\r\n",
        "import time"
      ],
      "execution_count": 17,
      "outputs": []
    },
    {
      "cell_type": "code",
      "metadata": {
        "id": "yYH4Ry_gPqWO"
      },
      "source": [
        "#punto de conexión y la clave de Azure del recurso de computer vision\r\n",
        "subscription_key = \"41453c5d55a44078b5ec92f173cf2b02\"\r\n",
        "endpoint = \"https://identificador-de-aglomeraciones.cognitiveservices.azure.com/\"\r\n",
        "computervision_client = ComputerVisionClient(endpoint, CognitiveServicesCredentials(subscription_key))"
      ],
      "execution_count": 18,
      "outputs": []
    },
    {
      "cell_type": "markdown",
      "metadata": {
        "id": "3iwK8I57eNFb"
      },
      "source": [
        "## Aqui comienza el analisis"
      ]
    },
    {
      "cell_type": "code",
      "metadata": {
        "colab": {
          "base_uri": "https://localhost:8080/"
        },
        "id": "3L5yNGmWP8ZD",
        "outputId": "c8e2692d-b3ab-4cc2-f4fd-ebcea648ca9e"
      },
      "source": [
        "# Agregar imagen a analizar\r\n",
        "imagen = input(\"Inserta imagen: \")\r\n",
        "remote_image_url = imagen"
      ],
      "execution_count": 19,
      "outputs": [
        {
          "output_type": "stream",
          "text": [
            "Inserta imagen: https://cadenaser00.epimg.net/ser/imagenes/2019/05/03/sociedad/1556865035_863516_1556867222_noticia_normal.jpg\n"
          ],
          "name": "stdout"
        }
      ]
    },
    {
      "cell_type": "markdown",
      "metadata": {
        "id": "f58xRVtsXzdm"
      },
      "source": [
        "## Imagenes de prueba\r\n",
        "\r\n",
        "https://upload.wikimedia.org/wikipedia/commons/thumb/e/e3/Coat_types_3.jpg/1200px-Coat_types_3.jpg\r\n",
        "\r\n",
        "https://cadenaser00.epimg.net/ser/imagenes/2019/05/03/sociedad/1556865035_863516_1556867222_noticia_normal.jpg\r\n",
        "\r\n",
        "https://cdn2.excelsior.com.mx/media/styles/large/public/pictures2020/06/06/2375314.jpg/\r\n",
        "\r\n",
        "https://images.uline.com/is/image/content/dam/images/S/S18500S-18362.jpg?$Mobile_SI$&iccEmbed=1&icc=AdobeRGB.jpg/\r\n",
        "\r\n"
      ]
    },
    {
      "cell_type": "code",
      "metadata": {
        "colab": {
          "base_uri": "https://localhost:8080/"
        },
        "id": "7TIf1JcCT72c",
        "outputId": "2db91656-488d-4ab0-8e7a-75933f5be0ed"
      },
      "source": [
        "'''\r\n",
        "Describe an Image - remote\r\n",
        "This example describes the contents of an image with the confidence score.\r\n",
        "'''\r\n",
        "print(\"===== Describe an image - remote =====\")\r\n",
        "# Call API\r\n",
        "description_results = computervision_client.describe_image(remote_image_url )"
      ],
      "execution_count": 20,
      "outputs": [
        {
          "output_type": "stream",
          "text": [
            "===== Describe an image - remote =====\n"
          ],
          "name": "stdout"
        }
      ]
    },
    {
      "cell_type": "code",
      "metadata": {
        "colab": {
          "base_uri": "https://localhost:8080/"
        },
        "id": "PszMpKgCS5zw",
        "outputId": "1a6048f8-802e-4a42-abbc-5a88fb538d92"
      },
      "source": [
        "from pprint import pprint\r\n",
        "\r\n",
        "pprint(description_results.as_dict())"
      ],
      "execution_count": 22,
      "outputs": [
        {
          "output_type": "stream",
          "text": [
            "{'captions': [{'confidence': 0.5806730389595032,\n",
            "               'text': 'a large crowd of people'}],\n",
            " 'metadata': {'format': 'Jpeg', 'height': 721, 'width': 1080},\n",
            " 'request_id': '32fe2eb5-0bfe-43b3-95f8-b6b2a38826e5',\n",
            " 'tags': ['person', 'crowd', 'outdoor', 'group']}\n"
          ],
          "name": "stdout"
        }
      ]
    },
    {
      "cell_type": "code",
      "metadata": {
        "colab": {
          "base_uri": "https://localhost:8080/"
        },
        "id": "FkMvDoC4UI7H",
        "outputId": "ccb88dc3-3372-433f-a4cd-9325f97f6686"
      },
      "source": [
        "\r\n",
        "# confiabilidad de descripcion de objeto\r\n",
        "print(\"Descripción de la imagen: \")\r\n",
        "if (len(description_results.captions) == 0):\r\n",
        "    print(\"No description detected.\")\r\n",
        "else:\r\n",
        "    for caption in description_results.captions:\r\n",
        "        print(\"'{}' with confidence {:.2f}%\".format(caption.text, caption.confidence * 100))"
      ],
      "execution_count": 23,
      "outputs": [
        {
          "output_type": "stream",
          "text": [
            "Descripción de la imagen: \n",
            "'a large crowd of people' with confidence 58.07%\n"
          ],
          "name": "stdout"
        }
      ]
    },
    {
      "cell_type": "code",
      "metadata": {
        "colab": {
          "base_uri": "https://localhost:8080/"
        },
        "id": "vXH0hd_vUf6B",
        "outputId": "19a99dff-a8c0-4755-9039-39ce81071f0d"
      },
      "source": [
        "\r\n",
        "\r\n",
        "if 'person' in description_results.tags:\r\n",
        "  print(\"Persona detectada en la calle activar el altavoz\")\r\n",
        "else:\r\n",
        "  print(\"No hay persona en la calle\")\r\n",
        "\r\n"
      ],
      "execution_count": 24,
      "outputs": [
        {
          "output_type": "stream",
          "text": [
            "Persona detectada en la calle activar el altavoz\n"
          ],
          "name": "stdout"
        }
      ]
    },
    {
      "cell_type": "code",
      "metadata": {
        "colab": {
          "base_uri": "https://localhost:8080/"
        },
        "id": "bre02HZseW6h",
        "outputId": "5884a425-1cf2-4fce-813d-dc0fb39f490d"
      },
      "source": [
        "!pip install azure-cognitiveservices-speech"
      ],
      "execution_count": 25,
      "outputs": [
        {
          "output_type": "stream",
          "text": [
            "Requirement already satisfied: azure-cognitiveservices-speech in /usr/local/lib/python3.7/dist-packages (1.15.0)\n"
          ],
          "name": "stdout"
        }
      ]
    },
    {
      "cell_type": "code",
      "metadata": {
        "colab": {
          "base_uri": "https://localhost:8080/"
        },
        "id": "QGnQ4zjGfnYi",
        "outputId": "36585ea3-afea-4c5e-c8f3-fb9d69c4e826"
      },
      "source": [
        "!python3 -m pip install --upgrade pip"
      ],
      "execution_count": 26,
      "outputs": [
        {
          "output_type": "stream",
          "text": [
            "Requirement already satisfied: pip in /usr/local/lib/python3.7/dist-packages (21.0.1)\n"
          ],
          "name": "stdout"
        }
      ]
    },
    {
      "cell_type": "code",
      "metadata": {
        "id": "Crt6OA2hf3vB"
      },
      "source": [
        "from azure.cognitiveservices.speech import AudioDataStream, SpeechConfig, SpeechSynthesizer, SpeechSynthesisOutputFormat\r\n",
        "from azure.cognitiveservices.speech.audio import AudioOutputConfig\r\n",
        "\r\n",
        "speech_config = SpeechConfig(subscription=\"034a95d9c18b41b894d56900314578ad\", region=\"southcentralus\")"
      ],
      "execution_count": 27,
      "outputs": []
    },
    {
      "cell_type": "code",
      "metadata": {
        "id": "KFpt5j6uhZAO"
      },
      "source": [
        "audio_config = AudioOutputConfig(filename=\"path/to/write/file.wav\")"
      ],
      "execution_count": 28,
      "outputs": []
    },
    {
      "cell_type": "code",
      "metadata": {
        "id": "xoV5VaAcwoE0"
      },
      "source": [
        "audio_config = AudioOutputConfig(use_default_speaker=True)\r\n",
        "\r\n",
        "synthesizer = SpeechSynthesizer(speech_config=speech_config, audio_config=audio_config)\r\n",
        "\r\n",
        "if 'person' in description_results.tags:\r\n",
        "    synthesizer.speak_text_async(\"Mantenga la sana distancia\")\r\n",
        "else:\r\n",
        "    synthesizer.speak_text_async(\"\")\r\n"
      ],
      "execution_count": 32,
      "outputs": []
    }
  ]
}